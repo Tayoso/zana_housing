{
 "cells": [
  {
   "cell_type": "markdown",
   "metadata": {},
   "source": [
    "## We will be visualising our data in this notebook.The most important thing is to make sense of the data. \n",
    "\n",
    "- Histograms\n",
    "- Box Plots\n",
    "- Bar Charts for quantities\n",
    "- Maybe Scatter Plot"
   ]
  },
  {
   "cell_type": "code",
   "execution_count": 4,
   "metadata": {},
   "outputs": [],
   "source": [
    "from matplotlib import pyplot as plt\n",
    "import pandas as pd\n",
    "pd.options.plotting.backend = \"plotly\"\n",
    "%matplotlib inline"
   ]
  },
  {
   "cell_type": "code",
   "execution_count": 6,
   "metadata": {},
   "outputs": [],
   "source": [
    "df = pd.read_csv(\"../data/processed/house_3_last_sale.csv\", parse_dates = ['date', 'month_year'])"
   ]
  },
  {
   "cell_type": "code",
   "execution_count": null,
   "metadata": {},
   "outputs": [],
   "source": [
    "df.adjusted_price.plot(kind = 'hist', bins=40)"
   ]
  },
  {
   "cell_type": "code",
   "execution_count": null,
   "metadata": {},
   "outputs": [],
   "source": [
    "fig = last_sale['adjusted_price'].plot.hist(bins = 20)\n",
    "fig.show()"
   ]
  },
  {
   "cell_type": "code",
   "execution_count": null,
   "metadata": {},
   "outputs": [],
   "source": [
    "fig = last_sale['new_build'].value_counts().plot.bar()\n",
    "fig.show()"
   ]
  },
  {
   "cell_type": "code",
   "execution_count": null,
   "metadata": {},
   "outputs": [],
   "source": [
    "fig = last_sale['year'].value_counts().plot.bar()\n",
    "fig.show()"
   ]
  },
  {
   "cell_type": "code",
   "execution_count": null,
   "metadata": {},
   "outputs": [],
   "source": [
    "last_sale.head()"
   ]
  },
  {
   "cell_type": "code",
   "execution_count": null,
   "metadata": {},
   "outputs": [],
   "source": [
    "financial_crash = last_sale['month_year'][last_sale['month_year'] == '2007-12-01'].value_counts()[0]\n",
    "uk_referendum = last_sale['month_year'][last_sale['month_year'] == '2016-06-01'].value_counts()[0]\n",
    "first_lockdown = last_sale['month_year'][last_sale['month_year'] == '2020-03-01'].value_counts()[0]"
   ]
  },
  {
   "cell_type": "code",
   "execution_count": null,
   "metadata": {},
   "outputs": [],
   "source": [
    "#last_sale['month_year'] = pd.to_datetime(last_sale['date']).dt.to_period('M')\n",
    "\n",
    "fig = last_sale['month_year'].value_counts().sort_index().plot.line()\n",
    "fig.add_annotation(x = '2016-06-23',\n",
    "        y = uk_referendum,\n",
    "        xref = 'x',\n",
    "        yref = 'y',\n",
    "        text = 'UK Referendum',\n",
    "        showarrow = True,\n",
    "        arrowhead = 7,\n",
    "        ax = 0,\n",
    "        ay = -40)\n",
    "fig.add_annotation(x = '2007-12-01',\n",
    "        y = financial_crash,\n",
    "        xref = 'x',\n",
    "        yref = 'y',\n",
    "        text = 'Financial Crash',\n",
    "        showarrow = True,\n",
    "        arrowhead = 7,\n",
    "        ax = 0,\n",
    "        ay = -40)\n",
    "fig.add_annotation(x = '2020-03-16',\n",
    "        y = first_lockdown,\n",
    "        xref = 'x',\n",
    "        yref = 'y',\n",
    "        text = 'First Lock Down',\n",
    "        showarrow = True,\n",
    "        arrowhead = 7,\n",
    "        ax = 0,\n",
    "        ay = -40)\n",
    "\n",
    "fig.update_layout(showlegend=False)\n",
    "fig.show()"
   ]
  },
  {
   "cell_type": "code",
   "execution_count": null,
   "metadata": {},
   "outputs": [],
   "source": [
    "price_cut_df.price.plot(kind = 'hist',figsize = (50,20), bins=40)"
   ]
  },
  {
   "cell_type": "code",
   "execution_count": null,
   "metadata": {},
   "outputs": [],
   "source": [
    "fig = last_sale['adjusted_price'].plot.hist(bins = 20)\n",
    "fig.show()"
   ]
  },
  {
   "cell_type": "code",
   "execution_count": null,
   "metadata": {},
   "outputs": [],
   "source": [
    "fig = last_sale['new_build'].value_counts().plot.bar()\n",
    "fig.show()"
   ]
  },
  {
   "cell_type": "code",
   "execution_count": null,
   "metadata": {},
   "outputs": [],
   "source": [
    "fig = last_sale['year'].value_counts().plot.bar()\n",
    "fig.show()"
   ]
  },
  {
   "cell_type": "code",
   "execution_count": null,
   "metadata": {},
   "outputs": [],
   "source": []
  },
  {
   "cell_type": "code",
   "execution_count": null,
   "metadata": {},
   "outputs": [],
   "source": [
    "last_sale.head()"
   ]
  },
  {
   "cell_type": "code",
   "execution_count": null,
   "metadata": {},
   "outputs": [],
   "source": [
    "financial_crash = last_sale['month_year'][last_sale['month_year'] == '2007-12-01'].value_counts()[0]\n",
    "uk_referendum = last_sale['month_year'][last_sale['month_year'] == '2016-06-01'].value_counts()[0]\n",
    "first_lockdown = last_sale['month_year'][last_sale['month_year'] == '2020-03-01'].value_counts()[0]"
   ]
  },
  {
   "cell_type": "code",
   "execution_count": null,
   "metadata": {},
   "outputs": [],
   "source": [
    "#last_sale['month_year'] = pd.to_datetime(last_sale['date']).dt.to_period('M')\n",
    "\n",
    "fig = last_sale['month_year'].value_counts().sort_index().plot.line()\n",
    "fig.add_annotation(x = '2016-06-23',\n",
    "        y = uk_referendum,\n",
    "        xref = 'x',\n",
    "        yref = 'y',\n",
    "        text = 'UK Referendum',\n",
    "        showarrow = True,\n",
    "        arrowhead = 7,\n",
    "        ax = 0,\n",
    "        ay = -40)\n",
    "fig.add_annotation(x = '2007-12-01',\n",
    "        y = financial_crash,\n",
    "        xref = 'x',\n",
    "        yref = 'y',\n",
    "        text = 'Financial Crash',\n",
    "        showarrow = True,\n",
    "        arrowhead = 7,\n",
    "        ax = 0,\n",
    "        ay = -40)\n",
    "fig.add_annotation(x = '2020-03-16',\n",
    "        y = first_lockdown,\n",
    "        xref = 'x',\n",
    "        yref = 'y',\n",
    "        text = 'First Lock Down',\n",
    "        showarrow = True,\n",
    "        arrowhead = 7,\n",
    "        ax = 0,\n",
    "        ay = -40)\n",
    "\n",
    "fig.update_layout(showlegend=False)\n",
    "fig.show()"
   ]
  },
  {
   "cell_type": "code",
   "execution_count": null,
   "metadata": {},
   "outputs": [],
   "source": [
    "\n"
   ]
  }
 ],
 "metadata": {
  "kernelspec": {
   "display_name": "venv",
   "language": "python",
   "name": "venv"
  },
  "language_info": {
   "codemirror_mode": {
    "name": "ipython",
    "version": 3
   },
   "file_extension": ".py",
   "mimetype": "text/x-python",
   "name": "python",
   "nbconvert_exporter": "python",
   "pygments_lexer": "ipython3",
   "version": "3.8.3"
  }
 },
 "nbformat": 4,
 "nbformat_minor": 4
}
